{
 "cells": [
  {
   "cell_type": "code",
   "execution_count": 92,
   "metadata": {},
   "outputs": [
    {
     "name": "stdout",
     "output_type": "stream",
     "text": [
      "Requirement already satisfied: ecdsa in c:\\python27\\lib\\site-packages (0.13.1.dev0)\n",
      "Requirement already satisfied: six>=1.4.1 in c:\\python27\\lib\\site-packages (from ecdsa) (1.11.0)\n"
     ]
    },
    {
     "name": "stderr",
     "output_type": "stream",
     "text": [
      "lockfile 0.10.2.post7 has requirement pbr!=0.7,<1.0,>=0.6, but you'll have pbr 4.0.2 which is incompatible.\n"
     ]
    }
   ],
   "source": [
    "from random import randint, random, shuffle, seed #, choices\n",
    "from ecdsa import SigningKey, VerifyingKey, BadSignatureError\n",
    "from binascii import hexlify,unhexlify\n",
    "from hashlib import sha256\n",
    "from pprint import pprint\n",
    "from collections import OrderedDict\n",
    "import unittest\n",
    "import json\n",
    "from cryptography.hazmat.backends import default_backend\n",
    "from cryptography.hazmat.primitives.asymmetric import rsa\n",
    "!pip install ecdsa"
   ]
  },
  {
   "cell_type": "code",
   "execution_count": 93,
   "metadata": {},
   "outputs": [
    {
     "name": "stdout",
     "output_type": "stream",
     "text": [
      "2d2d2d2d2d424547494e2045432050524956415445204b45592d2d2d2d2d0a4d4638434151454547506b2f374f587348452f75526e6a66686f7063377874366b7645572f4776444161414b42676771686b6a4f50514d4241614530417a49410a42504c7474742f6347736d582f6a73766a4c4d4f614a326c334f62334a4a394c6f53464676364d41364b2b33767a4f74306568793832456161456862654569450a7a413d3d0a2d2d2d2d2d454e442045432050524956415445204b45592d2d2d2d2d0a\n"
     ]
    }
   ],
   "source": [
    "class KeyGen:\n",
    "    @classmethod\n",
    "    def genKeyPair(self):\n",
    "        # private_key = rsa.generate_private_key(public_exponent=65537,key_size=2048,backend=default_backend())\n",
    "        # public_key = private_key.public_key()\n",
    "        sk = SigningKey.generate()  # private\n",
    "        vk = sk.get_verifying_key()  # public\n",
    "        h1 = sk.to_pem().decode()\n",
    "        h2 = vk.to_pem().decode()\n",
    "        private_h = hexlify(h1)\n",
    "        public_h = hexlify(h2)\n",
    "\n",
    "        #### Add your code below\n",
    "        #### gentrate and return privakey as a hex and publickey as a hex\n",
    "\n",
    "\n",
    "        return {\"privKey\": private_h, \"pubKey\": public_h}\n",
    "\n",
    "    def __generate_keys(self, users):\n",
    "        return {k: self.genKeyPair() for k in users}\n",
    "\n",
    "    def get_keys(self):\n",
    "        return self.__users_keys\n",
    "\n",
    "    def __init__(self, users):\n",
    "        self.__users_keys = self.__generate_keys(users)\n",
    "        self.__users_keys['coinbase'] = self.genKeyPair()\n",
    "\n",
    "\n",
    "t = KeyGen.genKeyPair()\n",
    "print t['privKey']\n"
   ]
  },
  {
   "cell_type": "code",
   "execution_count": 94,
   "metadata": {},
   "outputs": [],
   "source": [
    "class TxUtils:\n",
    "    @classmethod\n",
    "    def serializeTx(self, tx):\n",
    "        # this could be achived with json.dumps but it will not guarantee order\n",
    "        # tx=json.dumps(OrderedDict(tx))\n",
    "        # a = OrderedDict(tx)\n",
    "        # json_format = json.dumps(a.items())\n",
    "        # tx=OrderedDict(json.loads(json_format))\n",
    "        return (\"{fr:%s, to:%s, amount:%s }\" % (tx['fr'], tx['to'], tx['amount'])).encode()\n",
    "\n",
    "    @classmethod\n",
    "    def signTx(self, tx, privateKeyHex):  # private\n",
    "\n",
    "\n",
    "        #### added you code here\n",
    "        #### you should hash the tx then using the publicKeyHex && SigningKey Class && hashed_tx\n",
    "        #### to generate signature of the transaction and return it as hex\n",
    "        tx_ser = self.serializeTx(tx)\n",
    "        h = sha256(tx_ser)\n",
    "        d = h.digest()\n",
    "        #x = h.hexdigest()\n",
    "        sk = SigningKey.from_string(unhexlify(privateKeyHex))\n",
    "\n",
    "        # sk = SigningKey.from_pem(publicKeyHex)\n",
    "        signature = sk.sign_deterministic(d)\n",
    "        hy = hexlify(signature)\n",
    "        return hy\n",
    "\n",
    "    @classmethod\n",
    "    def verifyTx(self, tx, publicKeyHex):\n",
    "\n",
    "        try:\n",
    "\n",
    "            x = {'amount': tx['amount'], 'fr': tx['fr'], 'to': tx['to']}\n",
    "            tx_ser = self.serializeTx(x)\n",
    "            h = sha256(tx_ser)\n",
    "            d = h.digest()\n",
    "            #print tx_ser\n",
    "            #signature = self.signTx(tx, publicKeyHex)\n",
    "            signature =tx['sig']\n",
    "            #vk = .get_verifying_key()\n",
    "            vk=VerifyingKey.from_string(unhexlify(publicKeyHex))\n",
    "            #vk.verify(bytes.fromhex(signature), tx_ser)\n",
    "            vk.verify(unhexlify(signature), d)\n",
    "            print(\"good sig\")\n",
    "            return True\n",
    "        except BadSignatureError as e:\n",
    "            print(\"bad sig\")\n",
    "            return False\n",
    "            #### added you code here\n",
    "            #### using publicKey of user, check the signature of the transaction has been signed by the private key of user\n",
    "            #### and return true if the signature of the transaction is valid , False otherwise\n",
    "            #### you will have to handle the case of BadSignatureError by using try, except\n",
    "\n",
    "\n",
    "# b={ \"name\": \"Hannon\", \"city\": \"Cairo\", \"status\": \"%s\", \"country\": \"%s\" }\n",
    "# x = {'amount': 1962, 'fr': 'coinbase', 'to': 'Eula Zahar'}\n",
    "# g=TxUtils.serializeTx(x)\n",
    "# print g\n"
   ]
  },
  {
   "cell_type": "code",
   "execution_count": 95,
   "metadata": {},
   "outputs": [
    {
     "name": "stderr",
     "output_type": "stream",
     "text": [
      "...."
     ]
    },
    {
     "name": "stdout",
     "output_type": "stream",
     "text": [
      "bad sig\n",
      "good sig\n"
     ]
    },
    {
     "name": "stderr",
     "output_type": "stream",
     "text": [
      "\n",
      "----------------------------------------------------------------------\n",
      "Ran 4 tests in 0.532s\n",
      "\n",
      "OK\n"
     ]
    },
    {
     "data": {
      "text/plain": [
       "<unittest.runner.TextTestResult run=4 errors=0 failures=0>"
      ]
     },
     "execution_count": 95,
     "metadata": {},
     "output_type": "execute_result"
    }
   ],
   "source": [
    "class TestingTxUtils(unittest.TestCase):\n",
    "    def setUp(self):\n",
    "        self.TxUtils = TxUtils()\n",
    "        self.keys = { \n",
    "    'Eula Zahar': {'privKey': b'9fa53211241764d768ccfc5807638e37e6589f38e4eb2758',\n",
    "    'pubKey': b'f6f2a561c6c323728b736940098b7bb042258eb25e6052d0dcc46d8174390fc2abeb15c2ffd7a569fb8b742da95f52fd'},\n",
    "        \n",
    "    'coinbase': {'privKey': b'2b762ffc63a75f87cb7d321a62ee9e0ee8d5374352a35b12',\n",
    "    'pubKey': b'301dd8c64346bffef813ad4ece38ce4fa75ef2aa4064661da49a75357a2f520d801b7569efcf3db35aa0d9b45cd090f1'}\n",
    "        }\n",
    "        \n",
    "        self.tx = {'amount': 1962, 'fr': 'coinbase', 'to': 'Eula Zahar'}\n",
    "        self.signedTx = {'amount': 1962, 'fr': 'coinbase', 'to': 'Eula Zahar' ,\n",
    "     'sig': b'52df468cd2c99f41b0663fdac2cb361ee6971357b7dfe619e88e7137845f771e52f124c541e62948bfbb0c6d045d59c9'}\n",
    "        \n",
    "    def test_signTx_True(self):\n",
    "        self.assertEqual(self.TxUtils.signTx(self.tx , self.keys['coinbase']['privKey']) , self.signedTx['sig'] )\n",
    "        \n",
    "    def test_signTx_False(self):\n",
    "        self.assertNotEqual(self.TxUtils.signTx(self.tx , self.keys['Eula Zahar']['privKey']) , self.signedTx['sig'] )\n",
    "\n",
    "    def test_verifyTx_True(self):\n",
    "        self.assertEqual(self.TxUtils.verifyTx(self.signedTx , self.keys['coinbase']['pubKey']) , True )\n",
    "        \n",
    "    def test_verifyTx_False(self):\n",
    "        self.assertEqual(self.TxUtils.verifyTx(self.signedTx , self.keys['Eula Zahar']['pubKey']) , False )\n",
    "        \n",
    "suite = unittest.TestLoader().loadTestsFromTestCase(TestingTxUtils)\n",
    "unittest.TextTestRunner().run(suite)"
   ]
  },
  {
   "cell_type": "code",
   "execution_count": 82,
   "metadata": {},
   "outputs": [
    {
     "ename": "IndentationError",
     "evalue": "unexpected indent (<ipython-input-82-1ae35371bb04>, line 6)",
     "output_type": "error",
     "traceback": [
      "\u001b[1;36m  File \u001b[1;32m\"<ipython-input-82-1ae35371bb04>\"\u001b[1;36m, line \u001b[1;32m6\u001b[0m\n\u001b[1;33m    h =sha256(b)\u001b[0m\n\u001b[1;37m    ^\u001b[0m\n\u001b[1;31mIndentationError\u001b[0m\u001b[1;31m:\u001b[0m unexpected indent\n"
     ]
    }
   ],
   "source": [
    "b={ \"name\": \"Hannon\", \"city\": \"Cairo\", \"status\": \"single\", \"country\": \"Egypt\" }\n",
    "a = OrderedDict(b)\n",
    "#t=json.dumps(b)\n",
    "#json.dumps(b(OrderedDict))\n",
    "#print t\n",
    " h =sha256(b)"
   ]
  },
  {
   "cell_type": "code",
   "execution_count": 66,
   "metadata": {},
   "outputs": [
    {
     "name": "stdout",
     "output_type": "stream",
     "text": [
      "Hannon\n",
      "{\"status\": \"single\", \"city\": \"Cairo\", \"name\": \"Hannon\", \"country\": \"Egypt\"}\n",
      "{\"city\": \"Cairo\", \"country\": \"Egypt\", \"name\": \"Hannon\", \"status\": \"single\"}\n"
     ]
    }
   ],
   "source": [
    "a = { \"name\": \"Hannon\", \"city\": \"Cairo\", \"status\": \"single\", \"country\": \"Egypt\" }\n",
    "d = OrderedDict(a)\n",
    "json_format = json.dumps(d.items()) \n",
    "t=OrderedDict(json.loads(json_format))\n",
    "print t['name']\n",
    "print json.dumps(a) \n",
    "print json.dumps(a, sort_keys=True)"
   ]
  },
  {
   "cell_type": "code",
   "execution_count": 63,
   "metadata": {},
   "outputs": [
    {
     "name": "stdout",
     "output_type": "stream",
     "text": [
      "<sha256 HASH object @ 0651A048>\n"
     ]
    }
   ],
   "source": []
  },
  {
   "cell_type": "code",
   "execution_count": null,
   "metadata": {},
   "outputs": [],
   "source": []
  }
 ],
 "metadata": {
  "kernelspec": {
   "display_name": "Python 2",
   "language": "python",
   "name": "python2"
  },
  "language_info": {
   "codemirror_mode": {
    "name": "ipython",
    "version": 2
   },
   "file_extension": ".py",
   "mimetype": "text/x-python",
   "name": "python",
   "nbconvert_exporter": "python",
   "pygments_lexer": "ipython2",
   "version": "2.7.10"
  }
 },
 "nbformat": 4,
 "nbformat_minor": 2
}
